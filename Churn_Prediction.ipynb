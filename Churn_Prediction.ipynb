{
 "cells": [
  {
   "cell_type": "markdown",
   "metadata": {},
   "source": [
    "# Predicting Employee Churn \n",
    "Prepared by Nick Freeman, PhD (but inspired by many others).\n",
    "\n",
    "This notebook considers the problem of predicting employee churn for the purpose of demonstrating several machine learning techniques in Python. Employee churn refers to the turnover in an organization's staff as existing employees leave and new ones are hired. The churn rate is typically calculates as the percent of employees leaving the company over some specified time period. Although some staff turnover is inevitable, a high rate of churn is costly because of the associated costs of hiring and training. Moreover, it can take several months for a new hire to acclimate to a new position, and longer before the company realizes any return on their hiring investments. If an organization can predict the attributes that may cause an employee to leave, interventions may be planned to reduce churn.\n",
    "\n",
    "The following code block imports some libraries that we will use for our analysis."
   ]
  },
  {
   "cell_type": "code",
   "execution_count": 1,
   "metadata": {
    "scrolled": false
   },
   "outputs": [],
   "source": [
    "import pandas as pd \n",
    "\n",
    "import numpy as np\n",
    "\n",
    "import matplotlib.pyplot as plt\n",
    "\n",
    "import seaborn as sns\n",
    "\n",
    "from ipywidgets import interact"
   ]
  },
  {
   "cell_type": "markdown",
   "metadata": {},
   "source": [
    "We assume that the company has historical data that was gathered from employee surveys. The data (which was modified from that used in the tutorial available at https://www.datacamp.com/community/tutorials/predicting-employee-churn-python) includes the following fields:\n",
    "\n",
    "- `satisfaction_level`: the employee's reported satisfaction with their job (ranges from 0 to 100),\n",
    "- `last_evaluation`: the employee's last performance evaluation score, (ranges from 0 to 100),\n",
    "- `number_of_projects`: the number of projects assigned to the employee,\n",
    "- `average_monthly_hours`: average number of hours worked by the employee during a month,\n",
    "- `years_with_company`: the number of years the employee has been with the company,\n",
    "- `involved_in_accident`: 0 or 1 (no or yes) to indicate whether or not the employee has been involved in an accident at work,\n",
    "- `promoted_last_5_years`: 0 or 1 (no or yes) to indicate whether or not the employee was promoted within the lat 5 years,\n",
    "- `department`: the employee's working department/division.\n",
    "- `salary_level`: the employee's salary level (low, medium, or high),\n",
    "- `left_company`: 0 or 1 (no or yes) to indicate whether or not the employee left the company.\n",
    "\n",
    "The following code block reads in the data, stores the data in a Pandas `DataFrame` object named `data`, and prints the first 5 rows of the `data` object."
   ]
  },
  {
   "cell_type": "code",
   "execution_count": 2,
   "metadata": {
    "scrolled": true
   },
   "outputs": [
    {
     "data": {
      "text/html": [
       "<div>\n",
       "<style scoped>\n",
       "    .dataframe tbody tr th:only-of-type {\n",
       "        vertical-align: middle;\n",
       "    }\n",
       "\n",
       "    .dataframe tbody tr th {\n",
       "        vertical-align: top;\n",
       "    }\n",
       "\n",
       "    .dataframe thead th {\n",
       "        text-align: right;\n",
       "    }\n",
       "</style>\n",
       "<table border=\"1\" class=\"dataframe\">\n",
       "  <thead>\n",
       "    <tr style=\"text-align: right;\">\n",
       "      <th></th>\n",
       "      <th>satisfaction_level</th>\n",
       "      <th>last_evaluation</th>\n",
       "      <th>number_of_projects</th>\n",
       "      <th>average_monthly_hours</th>\n",
       "      <th>years_with_company</th>\n",
       "      <th>involved_in_accident</th>\n",
       "      <th>left_company</th>\n",
       "      <th>promoted_last_5_years</th>\n",
       "      <th>department</th>\n",
       "      <th>salary_level</th>\n",
       "    </tr>\n",
       "  </thead>\n",
       "  <tbody>\n",
       "    <tr>\n",
       "      <th>0</th>\n",
       "      <td>38.0</td>\n",
       "      <td>53.0</td>\n",
       "      <td>2</td>\n",
       "      <td>157</td>\n",
       "      <td>3</td>\n",
       "      <td>0</td>\n",
       "      <td>1</td>\n",
       "      <td>0</td>\n",
       "      <td>sales</td>\n",
       "      <td>low</td>\n",
       "    </tr>\n",
       "    <tr>\n",
       "      <th>1</th>\n",
       "      <td>80.0</td>\n",
       "      <td>86.0</td>\n",
       "      <td>5</td>\n",
       "      <td>262</td>\n",
       "      <td>6</td>\n",
       "      <td>0</td>\n",
       "      <td>1</td>\n",
       "      <td>0</td>\n",
       "      <td>sales</td>\n",
       "      <td>medium</td>\n",
       "    </tr>\n",
       "    <tr>\n",
       "      <th>2</th>\n",
       "      <td>11.0</td>\n",
       "      <td>88.0</td>\n",
       "      <td>7</td>\n",
       "      <td>272</td>\n",
       "      <td>4</td>\n",
       "      <td>0</td>\n",
       "      <td>1</td>\n",
       "      <td>0</td>\n",
       "      <td>sales</td>\n",
       "      <td>medium</td>\n",
       "    </tr>\n",
       "    <tr>\n",
       "      <th>3</th>\n",
       "      <td>72.0</td>\n",
       "      <td>87.0</td>\n",
       "      <td>5</td>\n",
       "      <td>223</td>\n",
       "      <td>5</td>\n",
       "      <td>0</td>\n",
       "      <td>1</td>\n",
       "      <td>0</td>\n",
       "      <td>sales</td>\n",
       "      <td>low</td>\n",
       "    </tr>\n",
       "    <tr>\n",
       "      <th>4</th>\n",
       "      <td>37.0</td>\n",
       "      <td>52.0</td>\n",
       "      <td>2</td>\n",
       "      <td>159</td>\n",
       "      <td>3</td>\n",
       "      <td>0</td>\n",
       "      <td>1</td>\n",
       "      <td>0</td>\n",
       "      <td>sales</td>\n",
       "      <td>low</td>\n",
       "    </tr>\n",
       "  </tbody>\n",
       "</table>\n",
       "</div>"
      ],
      "text/plain": [
       "   satisfaction_level  last_evaluation  number_of_projects  \\\n",
       "0                38.0             53.0                   2   \n",
       "1                80.0             86.0                   5   \n",
       "2                11.0             88.0                   7   \n",
       "3                72.0             87.0                   5   \n",
       "4                37.0             52.0                   2   \n",
       "\n",
       "   average_monthly_hours  years_with_company  involved_in_accident  \\\n",
       "0                    157                   3                     0   \n",
       "1                    262                   6                     0   \n",
       "2                    272                   4                     0   \n",
       "3                    223                   5                     0   \n",
       "4                    159                   3                     0   \n",
       "\n",
       "   left_company  promoted_last_5_years department salary_level  \n",
       "0             1                      0      sales          low  \n",
       "1             1                      0      sales       medium  \n",
       "2             1                      0      sales       medium  \n",
       "3             1                      0      sales          low  \n",
       "4             1                      0      sales          low  "
      ]
     },
     "execution_count": 2,
     "metadata": {},
     "output_type": "execute_result"
    }
   ],
   "source": [
    "data = pd.read_csv('data/HR_comma_sep.csv')\n",
    "data.head()"
   ]
  },
  {
   "cell_type": "markdown",
   "metadata": {},
   "source": [
    "The following code block uses Pandas `info()` method to provide information on the number and types of information included in each column of the dataset."
   ]
  },
  {
   "cell_type": "code",
   "execution_count": 3,
   "metadata": {
    "scrolled": false
   },
   "outputs": [
    {
     "name": "stdout",
     "output_type": "stream",
     "text": [
      "<class 'pandas.core.frame.DataFrame'>\n",
      "RangeIndex: 14999 entries, 0 to 14998\n",
      "Data columns (total 10 columns):\n",
      "satisfaction_level       14999 non-null float64\n",
      "last_evaluation          14999 non-null float64\n",
      "number_of_projects       14999 non-null int64\n",
      "average_monthly_hours    14999 non-null int64\n",
      "years_with_company       14999 non-null int64\n",
      "involved_in_accident     14999 non-null int64\n",
      "left_company             14999 non-null int64\n",
      "promoted_last_5_years    14999 non-null int64\n",
      "department               14999 non-null object\n",
      "salary_level             14999 non-null object\n",
      "dtypes: float64(2), int64(6), object(2)\n",
      "memory usage: 1.1+ MB\n"
     ]
    }
   ],
   "source": [
    "data.info()"
   ]
  },
  {
   "cell_type": "markdown",
   "metadata": {},
   "source": [
    "The output shows that the dataset has 14,999 instances (or samples) and 10 attributes (or features), 6 integer, 2 float, and 2 objects. No variable column has null/missing values. \n",
    "\n",
    "We are interested in developing models that can correctly predict values in the `left_company` column. The following code block uses Pandas `groupby` method to find the mean values of the numeric attributes for employees that have either left or stayed with the company."
   ]
  },
  {
   "cell_type": "code",
   "execution_count": 4,
   "metadata": {
    "scrolled": false
   },
   "outputs": [
    {
     "data": {
      "text/html": [
       "<div>\n",
       "<style scoped>\n",
       "    .dataframe tbody tr th:only-of-type {\n",
       "        vertical-align: middle;\n",
       "    }\n",
       "\n",
       "    .dataframe tbody tr th {\n",
       "        vertical-align: top;\n",
       "    }\n",
       "\n",
       "    .dataframe thead th {\n",
       "        text-align: right;\n",
       "    }\n",
       "</style>\n",
       "<table border=\"1\" class=\"dataframe\">\n",
       "  <thead>\n",
       "    <tr style=\"text-align: right;\">\n",
       "      <th></th>\n",
       "      <th>satisfaction_level</th>\n",
       "      <th>last_evaluation</th>\n",
       "      <th>number_of_projects</th>\n",
       "      <th>average_monthly_hours</th>\n",
       "      <th>years_with_company</th>\n",
       "      <th>involved_in_accident</th>\n",
       "      <th>promoted_last_5_years</th>\n",
       "    </tr>\n",
       "    <tr>\n",
       "      <th>left_company</th>\n",
       "      <th></th>\n",
       "      <th></th>\n",
       "      <th></th>\n",
       "      <th></th>\n",
       "      <th></th>\n",
       "      <th></th>\n",
       "      <th></th>\n",
       "    </tr>\n",
       "  </thead>\n",
       "  <tbody>\n",
       "    <tr>\n",
       "      <th>0</th>\n",
       "      <td>66.680959</td>\n",
       "      <td>71.547340</td>\n",
       "      <td>3.786664</td>\n",
       "      <td>199.060203</td>\n",
       "      <td>3.380032</td>\n",
       "      <td>0.175009</td>\n",
       "      <td>0.026251</td>\n",
       "    </tr>\n",
       "    <tr>\n",
       "      <th>1</th>\n",
       "      <td>44.009801</td>\n",
       "      <td>71.811257</td>\n",
       "      <td>3.855503</td>\n",
       "      <td>207.419210</td>\n",
       "      <td>3.876505</td>\n",
       "      <td>0.047326</td>\n",
       "      <td>0.005321</td>\n",
       "    </tr>\n",
       "  </tbody>\n",
       "</table>\n",
       "</div>"
      ],
      "text/plain": [
       "              satisfaction_level  last_evaluation  number_of_projects  \\\n",
       "left_company                                                            \n",
       "0                      66.680959        71.547340            3.786664   \n",
       "1                      44.009801        71.811257            3.855503   \n",
       "\n",
       "              average_monthly_hours  years_with_company  involved_in_accident  \\\n",
       "left_company                                                                    \n",
       "0                        199.060203            3.380032              0.175009   \n",
       "1                        207.419210            3.876505              0.047326   \n",
       "\n",
       "              promoted_last_5_years  \n",
       "left_company                         \n",
       "0                          0.026251  \n",
       "1                          0.005321  "
      ]
     },
     "execution_count": 4,
     "metadata": {},
     "output_type": "execute_result"
    }
   ],
   "source": [
    "data.groupby('left_company').mean()"
   ]
  },
  {
   "cell_type": "markdown",
   "metadata": {},
   "source": [
    "The previous output suggests that employees that leave the company had a lower mean satisfaction level, worked more hours each month, on average, and had a lower promotion rate. However, they were also less likely to be involved in an accident and are similar to employees that stayed with the comapny in terms of number of projects and years with the company. \n",
    "\n",
    "The following code block defines an interactive plot that allows you to easily investigate differences in the number of employees that stay or leave as the various attributes vary."
   ]
  },
  {
   "cell_type": "code",
   "execution_count": 5,
   "metadata": {
    "scrolled": false
   },
   "outputs": [
    {
     "data": {
      "application/vnd.jupyter.widget-view+json": {
       "model_id": "3d08374d22514fe9962319027f6debc4",
       "version_major": 2,
       "version_minor": 0
      },
      "text/plain": [
       "interactive(children=(Dropdown(description='attribute', options=('satisfaction_level', 'last_evaluation', 'num…"
      ]
     },
     "metadata": {},
     "output_type": "display_data"
    }
   ],
   "source": [
    "attribute_columns = ['satisfaction_level', 'last_evaluation', 'number_of_projects',\n",
    "                     'average_monthly_hours', 'years_with_company', 'involved_in_accident', 'promoted_last_5_years', 'department', 'salary_level']\n",
    "\n",
    "@interact(attribute = attribute_columns)\n",
    "\n",
    "def interactive_spend_analysis(attribute = attribute_columns[0]):\n",
    "    \n",
    "    data_copy = data.copy()\n",
    "    data_copy['satisfaction_level'] = pd.cut(data_copy['satisfaction_level'], [i*10 for i in range(11)])\n",
    "    data_copy['last_evaluation'] = pd.cut(data_copy['last_evaluation'], [i*10 for i in range(11)])\n",
    "    data_copy['average_monthly_hours'] = pd.cut(data_copy['average_monthly_hours'], [i*25 for i in range(3,14)])\n",
    "    \n",
    "    fig, ax = plt.subplots(figsize=(12, 6))\n",
    "    sns.countplot(x = attribute, \n",
    "                  data = data_copy, \n",
    "                  hue = 'left_company', \n",
    "                  ax = ax,\n",
    "                  edgecolor = 'k')\n",
    "    plt.xticks(rotation = 45, fontsize = 14)\n",
    "    plt.yticks(fontsize = 14)\n",
    "    ax.set_xlabel(attribute, fontsize = 16)\n",
    "    ax.set_ylabel('Count', fontsize = 16)\n",
    "    plt.legend(title ='left_company',fontsize = 16)\n",
    "    \n",
    "    plt.show()"
   ]
  },
  {
   "cell_type": "markdown",
   "metadata": {},
   "source": [
    "We will now turn our attention to preparing the data for our machine learning analysis. The machine learning algorithms that we will consider require numerical input data. Therefore, we need to develop a numerical representation for the categorical data contained in the `department` and `salary_level` columns. The following code block uses Pandas `get_dummies()` method for `DataFrame` objects to generate a binary representation for these columns. This conversion is commonly referred to as *one hot encoding*."
   ]
  },
  {
   "cell_type": "code",
   "execution_count": 6,
   "metadata": {
    "scrolled": false
   },
   "outputs": [
    {
     "data": {
      "text/html": [
       "<div>\n",
       "<style scoped>\n",
       "    .dataframe tbody tr th:only-of-type {\n",
       "        vertical-align: middle;\n",
       "    }\n",
       "\n",
       "    .dataframe tbody tr th {\n",
       "        vertical-align: top;\n",
       "    }\n",
       "\n",
       "    .dataframe thead th {\n",
       "        text-align: right;\n",
       "    }\n",
       "</style>\n",
       "<table border=\"1\" class=\"dataframe\">\n",
       "  <thead>\n",
       "    <tr style=\"text-align: right;\">\n",
       "      <th></th>\n",
       "      <th>satisfaction_level</th>\n",
       "      <th>last_evaluation</th>\n",
       "      <th>number_of_projects</th>\n",
       "      <th>average_monthly_hours</th>\n",
       "      <th>years_with_company</th>\n",
       "      <th>involved_in_accident</th>\n",
       "      <th>left_company</th>\n",
       "      <th>promoted_last_5_years</th>\n",
       "      <th>department</th>\n",
       "      <th>salary_level</th>\n",
       "      <th>...</th>\n",
       "      <th>hr</th>\n",
       "      <th>management</th>\n",
       "      <th>marketing</th>\n",
       "      <th>product_mng</th>\n",
       "      <th>sales</th>\n",
       "      <th>support</th>\n",
       "      <th>technical</th>\n",
       "      <th>salary_high</th>\n",
       "      <th>salary_low</th>\n",
       "      <th>salary_medium</th>\n",
       "    </tr>\n",
       "  </thead>\n",
       "  <tbody>\n",
       "    <tr>\n",
       "      <th>0</th>\n",
       "      <td>38.0</td>\n",
       "      <td>53.0</td>\n",
       "      <td>2</td>\n",
       "      <td>157</td>\n",
       "      <td>3</td>\n",
       "      <td>0</td>\n",
       "      <td>1</td>\n",
       "      <td>0</td>\n",
       "      <td>sales</td>\n",
       "      <td>low</td>\n",
       "      <td>...</td>\n",
       "      <td>0</td>\n",
       "      <td>0</td>\n",
       "      <td>0</td>\n",
       "      <td>0</td>\n",
       "      <td>1</td>\n",
       "      <td>0</td>\n",
       "      <td>0</td>\n",
       "      <td>0</td>\n",
       "      <td>1</td>\n",
       "      <td>0</td>\n",
       "    </tr>\n",
       "    <tr>\n",
       "      <th>1</th>\n",
       "      <td>80.0</td>\n",
       "      <td>86.0</td>\n",
       "      <td>5</td>\n",
       "      <td>262</td>\n",
       "      <td>6</td>\n",
       "      <td>0</td>\n",
       "      <td>1</td>\n",
       "      <td>0</td>\n",
       "      <td>sales</td>\n",
       "      <td>medium</td>\n",
       "      <td>...</td>\n",
       "      <td>0</td>\n",
       "      <td>0</td>\n",
       "      <td>0</td>\n",
       "      <td>0</td>\n",
       "      <td>1</td>\n",
       "      <td>0</td>\n",
       "      <td>0</td>\n",
       "      <td>0</td>\n",
       "      <td>0</td>\n",
       "      <td>1</td>\n",
       "    </tr>\n",
       "    <tr>\n",
       "      <th>2</th>\n",
       "      <td>11.0</td>\n",
       "      <td>88.0</td>\n",
       "      <td>7</td>\n",
       "      <td>272</td>\n",
       "      <td>4</td>\n",
       "      <td>0</td>\n",
       "      <td>1</td>\n",
       "      <td>0</td>\n",
       "      <td>sales</td>\n",
       "      <td>medium</td>\n",
       "      <td>...</td>\n",
       "      <td>0</td>\n",
       "      <td>0</td>\n",
       "      <td>0</td>\n",
       "      <td>0</td>\n",
       "      <td>1</td>\n",
       "      <td>0</td>\n",
       "      <td>0</td>\n",
       "      <td>0</td>\n",
       "      <td>0</td>\n",
       "      <td>1</td>\n",
       "    </tr>\n",
       "    <tr>\n",
       "      <th>3</th>\n",
       "      <td>72.0</td>\n",
       "      <td>87.0</td>\n",
       "      <td>5</td>\n",
       "      <td>223</td>\n",
       "      <td>5</td>\n",
       "      <td>0</td>\n",
       "      <td>1</td>\n",
       "      <td>0</td>\n",
       "      <td>sales</td>\n",
       "      <td>low</td>\n",
       "      <td>...</td>\n",
       "      <td>0</td>\n",
       "      <td>0</td>\n",
       "      <td>0</td>\n",
       "      <td>0</td>\n",
       "      <td>1</td>\n",
       "      <td>0</td>\n",
       "      <td>0</td>\n",
       "      <td>0</td>\n",
       "      <td>1</td>\n",
       "      <td>0</td>\n",
       "    </tr>\n",
       "    <tr>\n",
       "      <th>4</th>\n",
       "      <td>37.0</td>\n",
       "      <td>52.0</td>\n",
       "      <td>2</td>\n",
       "      <td>159</td>\n",
       "      <td>3</td>\n",
       "      <td>0</td>\n",
       "      <td>1</td>\n",
       "      <td>0</td>\n",
       "      <td>sales</td>\n",
       "      <td>low</td>\n",
       "      <td>...</td>\n",
       "      <td>0</td>\n",
       "      <td>0</td>\n",
       "      <td>0</td>\n",
       "      <td>0</td>\n",
       "      <td>1</td>\n",
       "      <td>0</td>\n",
       "      <td>0</td>\n",
       "      <td>0</td>\n",
       "      <td>1</td>\n",
       "      <td>0</td>\n",
       "    </tr>\n",
       "  </tbody>\n",
       "</table>\n",
       "<p>5 rows × 23 columns</p>\n",
       "</div>"
      ],
      "text/plain": [
       "   satisfaction_level  last_evaluation  number_of_projects  \\\n",
       "0                38.0             53.0                   2   \n",
       "1                80.0             86.0                   5   \n",
       "2                11.0             88.0                   7   \n",
       "3                72.0             87.0                   5   \n",
       "4                37.0             52.0                   2   \n",
       "\n",
       "   average_monthly_hours  years_with_company  involved_in_accident  \\\n",
       "0                    157                   3                     0   \n",
       "1                    262                   6                     0   \n",
       "2                    272                   4                     0   \n",
       "3                    223                   5                     0   \n",
       "4                    159                   3                     0   \n",
       "\n",
       "   left_company  promoted_last_5_years department salary_level  ...  hr  \\\n",
       "0             1                      0      sales          low  ...   0   \n",
       "1             1                      0      sales       medium  ...   0   \n",
       "2             1                      0      sales       medium  ...   0   \n",
       "3             1                      0      sales          low  ...   0   \n",
       "4             1                      0      sales          low  ...   0   \n",
       "\n",
       "   management  marketing  product_mng  sales  support  technical  salary_high  \\\n",
       "0           0          0            0      1        0          0            0   \n",
       "1           0          0            0      1        0          0            0   \n",
       "2           0          0            0      1        0          0            0   \n",
       "3           0          0            0      1        0          0            0   \n",
       "4           0          0            0      1        0          0            0   \n",
       "\n",
       "   salary_low  salary_medium  \n",
       "0           1              0  \n",
       "1           0              1  \n",
       "2           0              1  \n",
       "3           1              0  \n",
       "4           1              0  \n",
       "\n",
       "[5 rows x 23 columns]"
      ]
     },
     "execution_count": 6,
     "metadata": {},
     "output_type": "execute_result"
    }
   ],
   "source": [
    "data = pd.concat([data, pd.get_dummies(data['department'])], axis=1)\n",
    "data = pd.concat([data, pd.get_dummies(data['salary_level'])], axis=1)\n",
    "\n",
    "data.columns = ['satisfaction_level', 'last_evaluation', 'number_of_projects',\n",
    "                'average_monthly_hours', 'years_with_company', 'involved_in_accident',\n",
    "                'left_company', 'promoted_last_5_years', 'department', 'salary_level',\n",
    "                'IT', 'RandD', 'accounting', 'hr', 'management', 'marketing',\n",
    "                'product_mng', 'sales', 'support', 'technical', \n",
    "                'salary_high', 'salary_low', 'salary_medium']\n",
    "\n",
    "data.head()"
   ]
  },
  {
   "cell_type": "markdown",
   "metadata": {},
   "source": [
    "The following code block specifies the set of columns in the `data` object that we will pass to our machine learning algorithms as features. The machine learning algorithms that we consider will attempt to learn patterns of these features that explain variation in the target variable, which for our problem is the value in the `left_company` column."
   ]
  },
  {
   "cell_type": "code",
   "execution_count": 7,
   "metadata": {
    "scrolled": false
   },
   "outputs": [],
   "source": [
    "features = ['satisfaction_level', 'last_evaluation', 'number_of_projects',\n",
    "            'average_monthly_hours', 'years_with_company', 'involved_in_accident',\n",
    "            'promoted_last_5_years', 'IT', 'RandD', 'accounting', \n",
    "            'hr', 'management', 'marketing', 'product_mng', 'sales', 'support', 'technical',\n",
    "            'salary_high', 'salary_low', 'salary_medium']\n",
    "\n",
    "target = 'left_company'\n",
    "\n",
    "X = data[features]\n",
    "y = data[target]"
   ]
  },
  {
   "cell_type": "markdown",
   "metadata": {},
   "source": [
    "The following code block splits the dataset into two parts, training and testing datasets. The machine learning algorithms will use the training dataset when learning the patterns of features that affect the target. The testing dataset will be used to investigate the accuracy of the learned models. We specify that 70% of the data be used for training and the remianing 30% be used for testing."
   ]
  },
  {
   "cell_type": "code",
   "execution_count": 8,
   "metadata": {
    "scrolled": false
   },
   "outputs": [],
   "source": [
    "# Import train_test_split function\n",
    "from sklearn.model_selection import train_test_split\n",
    "\n",
    "# Split dataset into training set and test set\n",
    "X_train, X_test, y_train, y_test = train_test_split(X, y, test_size=0.3, random_state=42)  # 70% training and 30% test"
   ]
  },
  {
   "cell_type": "markdown",
   "metadata": {},
   "source": [
    "# Logistic Regression"
   ]
  },
  {
   "cell_type": "markdown",
   "metadata": {},
   "source": [
    "In this section, we show how to define a logistic regression model for our prediction problem. In statistics, the logistic model (or logit model) is a widely used statistical model that uses a logistic function to model a binary dependent variable; many more complex extensions exist. A binary logistic model has a dependent variable with two possible values, such as pass/fail, win/lose, alive/dead or healthy/sick; these are represented by an indicator variable, where the two values are labeled \"0\" and \"1\". In the logistic model, the log-odds (the logarithm of the odds) for the value labeled \"1\" is a linear combination of one or more independent variables (\"predictors\"); the independent variables can each be a binary variable (two classes, coded by an indicator variable) or a continuous variable (any real value). The corresponding probability of the value labeled \"1\" can vary between 0 (certainly the value \"0\") and 1 (certainly the value \"1\"), hence the labeling; the function that converts log-odds to probability is the logistic function, hence the name.\n",
    "\n",
    "The following code block uses the scikit-learn package to define a logistic regression model, fit the model to our training data, and use the fitted model to make predictions for the instances included in the testing dataset."
   ]
  },
  {
   "cell_type": "code",
   "execution_count": 9,
   "metadata": {
    "scrolled": false
   },
   "outputs": [
    {
     "name": "stdout",
     "output_type": "stream",
     "text": [
      "The logistic regression model achieves an accuracy of 78.62%\n"
     ]
    }
   ],
   "source": [
    "from sklearn.linear_model import LogisticRegression\n",
    "\n",
    "clf = LogisticRegression(solver = 'newton-cg')\n",
    "clf = clf.fit(X_train, y_train)\n",
    "predictions = clf.predict(X_test)\n",
    "score = clf.score(X_test, y_test)\n",
    "print(f'The logistic regression model achieves an accuracy of {np.round(100*score, 2)}%')"
   ]
  },
  {
   "cell_type": "markdown",
   "metadata": {},
   "source": [
    "The output of the previous code block suggests that the logistic regression model is able to correctly predict whether or not an employee will leave for approximately 78.62% of the test instances. \n",
    "\n",
    "The following code block defines a function for generating a confusion matrix for the predictions. The cofusion matric provides additional information regarding the type of errors made by a machine learning model (i.e., false positives or false negatives)."
   ]
  },
  {
   "cell_type": "code",
   "execution_count": 10,
   "metadata": {},
   "outputs": [],
   "source": [
    "def plot_confusion_matrix(cm):\n",
    "    \n",
    "    f, ax = plt.subplots(figsize=(8, 8))\n",
    "\n",
    "    ax = sns.heatmap(cm, annot=True,\n",
    "                     fmt=\".0f\", \n",
    "                     square = True,\n",
    "                     linecolor='k',\n",
    "                     annot_kws={\"size\": 20})\n",
    "    for _, spine in ax.spines.items():\n",
    "        spine.set_visible(True)\n",
    "\n",
    "    plt.xticks(fontsize = 18)    \n",
    "    plt.yticks(fontsize = 18) \n",
    "    plt.ylabel('left_job actual', fontsize = 18);\n",
    "    plt.xlabel('left_job predicted', fontsize = 18);\n",
    "    cax = plt.gcf().axes[-1]\n",
    "    cax.tick_params(labelsize = 14)\n",
    "    plt.show()"
   ]
  },
  {
   "cell_type": "markdown",
   "metadata": {},
   "source": [
    "The following code block uses our function to generate the confusion matrix for the logistic regression model. "
   ]
  },
  {
   "cell_type": "code",
   "execution_count": 11,
   "metadata": {
    "scrolled": false
   },
   "outputs": [
    {
     "data": {
      "image/png": "[encoded data removed]",
      "text/plain": [
       "<Figure size 576x576 with 2 Axes>"
      ]
     },
     "metadata": {
      "needs_background": "light"
     },
     "output_type": "display_data"
    }
   ],
   "source": [
    "from sklearn import metrics\n",
    "\n",
    "cm = metrics.confusion_matrix(y_test, predictions)\n",
    "\n",
    "plot_confusion_matrix(cm)"
   ]
  },
  {
   "cell_type": "markdown",
   "metadata": {},
   "source": [
    "# Decision Tree"
   ]
  },
  {
   "cell_type": "markdown",
   "metadata": {},
   "source": [
    "Decision Tree models divide the feature space into sub-parts by identifying threshold feature values that result in good separation of the target variable for training instances. The following code block defines a decision tree model, fits the model to the training data, and uses the fitted model to predict the target variable for the instances in the testing dataset."
   ]
  },
  {
   "cell_type": "code",
   "execution_count": 12,
   "metadata": {
    "scrolled": false
   },
   "outputs": [
    {
     "name": "stdout",
     "output_type": "stream",
     "text": [
      "The decision tree model achieves an accuracy of 97.64%\n"
     ]
    }
   ],
   "source": [
    "from sklearn import tree\n",
    "clf = tree.DecisionTreeClassifier()\n",
    "clf = clf.fit(X_train, y_train)\n",
    "predictions = clf.predict(X_test)\n",
    "score = clf.score(X_test, y_test)\n",
    "print(f'The decision tree model achieves an accuracy of {np.round(100*score, 2)}%')"
   ]
  },
  {
   "cell_type": "markdown",
   "metadata": {},
   "source": [
    "The decision tree model offers a dramatic imporvement in accuracy when compared to the logistic regression model. In particular, the decision tree model offers an accuracy improvement of nearly 20%, correctly predicting whether or not an employee leaves for approximately 97.5% of the test instances. The confusion matrix for the decision tree predictions follows."
   ]
  },
  {
   "cell_type": "code",
   "execution_count": 13,
   "metadata": {
    "scrolled": false
   },
   "outputs": [
    {
     "data": {
      "image/png": "[encoded data removed]",
      "text/plain": [
       "<Figure size 576x576 with 2 Axes>"
      ]
     },
     "metadata": {
      "needs_background": "light"
     },
     "output_type": "display_data"
    }
   ],
   "source": [
    "cm = metrics.confusion_matrix(y_test, predictions)\n",
    "\n",
    "plot_confusion_matrix(cm)"
   ]
  },
  {
   "cell_type": "markdown",
   "metadata": {},
   "source": [
    "The confusion matrix shows the nature of the improvements in prediction. Of particular interest, we note that the decision tree model only makes 43 incorrect predictions on the 1,072 instances where the associated employee actually left the company. The following plot uses the `feature_importances_` attribute of the model to show which features have the larget impact on the classification."
   ]
  },
  {
   "cell_type": "code",
   "execution_count": 14,
   "metadata": {},
   "outputs": [
    {
     "data": {
      "image/png": "[encoded data removed]",
      "text/plain": [
       "<Figure size 720x432 with 1 Axes>"
      ]
     },
     "metadata": {
      "needs_background": "light"
     },
     "output_type": "display_data"
    }
   ],
   "source": [
    "x_vals = [i for i in range(len(clf.feature_importances_))]\n",
    "\n",
    "fig, ax = plt.subplots(figsize = (10,6))\n",
    "\n",
    "ax.bar(x_vals, clf.feature_importances_)\n",
    "ax.set_xticks(x_vals)\n",
    "ax.set_xticklabels(features, ha='right') \n",
    "    \n",
    "plt.xticks(rotation = 45, fontsize = 14)\n",
    "plt.yticks(fontsize = 14)\n",
    "ax.set_xlabel('Feature', fontsize = 16)\n",
    "ax.set_ylabel('Importance', fontsize = 16)\n",
    "ax.set_title('Feature Importance for Decision Tree Model', fontsize = 16)\n",
    "\n",
    "plt.show()"
   ]
  },
  {
   "cell_type": "markdown",
   "metadata": {},
   "source": [
    "# Random Forest\n",
    "\n",
    "In this section, we consider a random forest classification model. Random forests construct a specified number of decision trees and outputs the mode class of the individual trees. By *ensembling* several decision trees, random forests are *largely immune* to overfitting. The following code block defines a random forest model that consists of 100 decision trees, fits the model to the training data, and uses the fitted model to predict the target variable for the instances in the testing dataset."
   ]
  },
  {
   "cell_type": "code",
   "execution_count": 15,
   "metadata": {
    "scrolled": false
   },
   "outputs": [
    {
     "name": "stdout",
     "output_type": "stream",
     "text": [
      "The logistic regression model achieves an accuracy of 98.67%\n"
     ]
    }
   ],
   "source": [
    "from sklearn.ensemble import RandomForestClassifier\n",
    "\n",
    "clf = RandomForestClassifier(n_estimators = 100, random_state=0)\n",
    "clf = clf.fit(X_train, y_train)\n",
    "predictions = clf.predict(X_test)\n",
    "score = clf.score(X_test, y_test)\n",
    "print(f'The logistic regression model achieves an accuracy of {np.round(100*score, 2)}%')"
   ]
  },
  {
   "cell_type": "markdown",
   "metadata": {},
   "source": [
    "The following code block prints the confusion matrix for the random forest model."
   ]
  },
  {
   "cell_type": "code",
   "execution_count": 16,
   "metadata": {
    "scrolled": false
   },
   "outputs": [
    {
     "data": {
      "image/png": "[encoded data removed]",
      "text/plain": [
       "<Figure size 576x576 with 2 Axes>"
      ]
     },
     "metadata": {
      "needs_background": "light"
     },
     "output_type": "display_data"
    }
   ],
   "source": [
    "cm = metrics.confusion_matrix(y_test, predictions)\n",
    "\n",
    "plot_confusion_matrix(cm)"
   ]
  },
  {
   "cell_type": "markdown",
   "metadata": {},
   "source": [
    "The following plot uses the `feature_importances_` attribute of the model to show which features have the larget impact on the classification."
   ]
  },
  {
   "cell_type": "code",
   "execution_count": 17,
   "metadata": {},
   "outputs": [
    {
     "data": {
      "image/png": "[encoded data removed]",
      "text/plain": [
       "<Figure size 720x432 with 1 Axes>"
      ]
     },
     "metadata": {
      "needs_background": "light"
     },
     "output_type": "display_data"
    }
   ],
   "source": [
    "x_vals = [i for i in range(len(clf.feature_importances_))]\n",
    "\n",
    "fig, ax = plt.subplots(figsize = (10,6))\n",
    "\n",
    "ax.bar(x_vals, clf.feature_importances_)\n",
    "ax.set_xticks(x_vals)\n",
    "ax.set_xticklabels(features, ha='right') \n",
    "#for tick in ax.get_xticklabels():\n",
    "#    tick.set_rotation(60)\n",
    "    \n",
    "plt.xticks(rotation = 45, fontsize = 14)\n",
    "plt.yticks(fontsize = 14)\n",
    "ax.set_xlabel('Feature', fontsize = 16)\n",
    "ax.set_ylabel('Importance', fontsize = 16)\n",
    "ax.set_title('Feature Importance for Random Forest Model', fontsize = 16)\n",
    "\n",
    "plt.show()"
   ]
  },
  {
   "cell_type": "markdown",
   "metadata": {},
   "source": [
    "# Neural Network\n",
    "\n",
    "In this section, we will fit a classifier based on a neural network. According to https://en.wikipedia.org/wiki/Artificial_neural_network (accessed 2/4/2019):\n",
    "\n",
    ">Artificial neural networks (ANN) are computing systems that are inspired by the biological neural networks that constitute animal brains. ANNS are not an algorithm, but a framework for machine learning. An ANN is based on a collection of connected units or nodes called artificial neurons. Each connection, like the synapses in a brain, can transmit a signal from one artificial neuron to another. An artificial neuron that receives a signal can process it and then signal additional artificial neurons connected to it.\n",
    ">\n",
    ">In common ANN implementations, the signal at a connection between artificial neurons is a real number, and the output of each artificial neuron is computed by some non-linear function of the sum of its inputs. The connections between artificial neurons are called 'edges'. Artificial neurons and edges typically have a weight that adjusts as learning proceeds. The weight increases or decreases the strength of the signal at a connection. Artificial neurons may have a threshold such that the signal is only sent if the aggregate signal crosses that threshold. Typically, artificial neurons are aggregated into layers. Different layers may perform different kinds of transformations on their inputs. Signals travel from the first layer (the input layer), to the last layer (the output layer), possibly after traversing the layers multiple times\n",
    "\n",
    "The following code block defines a function that we will use to print the performance of our neural network model."
   ]
  },
  {
   "cell_type": "code",
   "execution_count": 18,
   "metadata": {
    "scrolled": false
   },
   "outputs": [],
   "source": [
    "#modified from from https://www.kaggle.com/danbrice/keras-plot-history-full-report-and-grid-search\n",
    "\n",
    "def plot_history(history):\n",
    "    fig, ax = plt.subplots(1,2,figsize = (15, 6))\n",
    "    loss_list = [s for s in history.history.keys() if 'loss' in s and 'val' not in s]\n",
    "    val_loss_list = [s for s in history.history.keys() if 'loss' in s and 'val' in s]\n",
    "    acc_list = [s for s in history.history.keys() if 'acc' in s and 'val' not in s]\n",
    "    val_acc_list = [s for s in history.history.keys() if 'acc' in s and 'val' in s]\n",
    "    \n",
    "    if len(loss_list) == 0:\n",
    "        print('Loss is missing in history')\n",
    "        return \n",
    "    \n",
    "    ## As loss always exists\n",
    "    epochs = range(1,len(history.history[loss_list[0]]) + 1)\n",
    "    \n",
    "    ## Loss\n",
    "    for l in loss_list:\n",
    "        ax[0].plot(epochs, history.history[l], 'b', label='Training loss (' + str(str(format(history.history[l][-1],'.5f'))+')'))\n",
    "    for l in val_loss_list:\n",
    "        ax[0].plot(epochs, history.history[l], 'g', label='Validation loss (' + str(str(format(history.history[l][-1],'.5f'))+')'))\n",
    "    \n",
    "    ax[0].set_title('Loss')\n",
    "    ax[0].set_xlabel('Epochs')\n",
    "    ax[0].set_ylabel('Loss')\n",
    "    ax[0].legend()\n",
    "    \n",
    "    ## Accuracy\n",
    "    for l in acc_list:\n",
    "        ax[1].plot(epochs, history.history[l], 'b', label='Training accuracy (' + str(format(history.history[l][-1],'.5f'))+')')\n",
    "    for l in val_acc_list:    \n",
    "        ax[1].plot(epochs, history.history[l], 'g', label='Validation accuracy (' + str(format(history.history[l][-1],'.5f'))+')')\n",
    "\n",
    "    ax[1].set_title('Accuracy')\n",
    "    ax[1].set_xlabel('Epochs')\n",
    "    ax[1].set_ylabel('Accuracy')\n",
    "    ax[1].legend()\n",
    "    plt.show()"
   ]
  },
  {
   "cell_type": "markdown",
   "metadata": {},
   "source": [
    "The following code block utilizes the TensorFlow and Keras packages to implement a simple, 3-layer neural network for our classification problem. Note that we need to specify a number of epochs and a batch size for our neural network. In neural network terminology:\n",
    " - one epoch constitutes a single forward and backward pass of all the training instances,\n",
    " - batch size specifies the number of training examples in one forward/backward pass. The higher the batch size, the more memory space you'll need.\n",
    " - number of iterations = number of passes, each pass using batch size number of examples.\n",
    "\n",
    "For example, if you have 10000 training examples, and your batch size is 500, then it will take 20 iterations to complete 1 epoch."
   ]
  },
  {
   "cell_type": "code",
   "execution_count": 19,
   "metadata": {
    "scrolled": false
   },
   "outputs": [
    {
     "name": "stderr",
     "output_type": "stream",
     "text": [
      "Using TensorFlow backend.\n"
     ]
    },
    {
     "name": "stdout",
     "output_type": "stream",
     "text": [
      "Epoch 1/50\n",
      "10499/10499 [==============================] - 1s 58us/step - loss: 0.5470 - acc: 0.7620\n",
      "Epoch 2/50\n",
      "10499/10499 [==============================] - 0s 16us/step - loss: 0.4710 - acc: 0.7957\n",
      "Epoch 3/50\n",
      "10499/10499 [==============================] - 0s 17us/step - loss: 0.4541 - acc: 0.7885\n",
      "Epoch 4/50\n",
      "10499/10499 [==============================] - 0s 16us/step - loss: 0.4416 - acc: 0.7903\n",
      "Epoch 5/50\n",
      "10499/10499 [==============================] - 0s 16us/step - loss: 0.4243 - acc: 0.7887\n",
      "Epoch 6/50\n",
      "10499/10499 [==============================] - 0s 16us/step - loss: 0.4077 - acc: 0.7887\n",
      "Epoch 7/50\n",
      "10499/10499 [==============================] - 0s 15us/step - loss: 0.3885 - acc: 0.8018\n",
      "Epoch 8/50\n",
      "10499/10499 [==============================] - 0s 16us/step - loss: 0.3753 - acc: 0.8166\n",
      "Epoch 9/50\n",
      "10499/10499 [==============================] - 0s 15us/step - loss: 0.3627 - acc: 0.8270\n",
      "Epoch 10/50\n",
      "10499/10499 [==============================] - 0s 15us/step - loss: 0.3546 - acc: 0.8374\n",
      "Epoch 11/50\n",
      "10499/10499 [==============================] - 0s 16us/step - loss: 0.3492 - acc: 0.8397\n",
      "Epoch 12/50\n",
      "10499/10499 [==============================] - 0s 15us/step - loss: 0.3469 - acc: 0.8427\n",
      "Epoch 13/50\n",
      "10499/10499 [==============================] - 0s 15us/step - loss: 0.3446 - acc: 0.8452\n",
      "Epoch 14/50\n",
      "10499/10499 [==============================] - 0s 16us/step - loss: 0.3377 - acc: 0.8516\n",
      "Epoch 15/50\n",
      "10499/10499 [==============================] - 0s 14us/step - loss: 0.3376 - acc: 0.8500\n",
      "Epoch 16/50\n",
      "10499/10499 [==============================] - 0s 14us/step - loss: 0.3329 - acc: 0.8560\n",
      "Epoch 17/50\n",
      "10499/10499 [==============================] - 0s 16us/step - loss: 0.3297 - acc: 0.8531\n",
      "Epoch 18/50\n",
      "10499/10499 [==============================] - 0s 15us/step - loss: 0.3282 - acc: 0.8544\n",
      "Epoch 19/50\n",
      "10499/10499 [==============================] - 0s 16us/step - loss: 0.3258 - acc: 0.8587\n",
      "Epoch 20/50\n",
      "10499/10499 [==============================] - 0s 14us/step - loss: 0.3227 - acc: 0.8609\n",
      "Epoch 21/50\n",
      "10499/10499 [==============================] - 0s 15us/step - loss: 0.3191 - acc: 0.8616\n",
      "Epoch 22/50\n",
      "10499/10499 [==============================] - 0s 15us/step - loss: 0.3178 - acc: 0.8616\n",
      "Epoch 23/50\n",
      "10499/10499 [==============================] - 0s 16us/step - loss: 0.3161 - acc: 0.8618\n",
      "Epoch 24/50\n",
      "10499/10499 [==============================] - 0s 15us/step - loss: 0.3114 - acc: 0.8652\n",
      "Epoch 25/50\n",
      "10499/10499 [==============================] - 0s 14us/step - loss: 0.3085 - acc: 0.8665\n",
      "Epoch 26/50\n",
      "10499/10499 [==============================] - 0s 16us/step - loss: 0.3049 - acc: 0.8707\n",
      "Epoch 27/50\n",
      "10499/10499 [==============================] - 0s 15us/step - loss: 0.3033 - acc: 0.8701\n",
      "Epoch 28/50\n",
      "10499/10499 [==============================] - 0s 16us/step - loss: 0.2974 - acc: 0.8749\n",
      "Epoch 29/50\n",
      "10499/10499 [==============================] - 0s 14us/step - loss: 0.2958 - acc: 0.8746\n",
      "Epoch 30/50\n",
      "10499/10499 [==============================] - 0s 15us/step - loss: 0.2940 - acc: 0.8774\n",
      "Epoch 31/50\n",
      "10499/10499 [==============================] - 0s 14us/step - loss: 0.2932 - acc: 0.8800\n",
      "Epoch 32/50\n",
      "10499/10499 [==============================] - 0s 16us/step - loss: 0.2835 - acc: 0.8826\n",
      "Epoch 33/50\n",
      "10499/10499 [==============================] - 0s 15us/step - loss: 0.2797 - acc: 0.8874\n",
      "Epoch 34/50\n",
      "10499/10499 [==============================] - 0s 14us/step - loss: 0.2813 - acc: 0.8869\n",
      "Epoch 35/50\n",
      "10499/10499 [==============================] - 0s 15us/step - loss: 0.2754 - acc: 0.8915\n",
      "Epoch 36/50\n",
      "10499/10499 [==============================] - 0s 14us/step - loss: 0.2726 - acc: 0.8913\n",
      "Epoch 37/50\n",
      "10499/10499 [==============================] - 0s 13us/step - loss: 0.2712 - acc: 0.8936\n",
      "Epoch 38/50\n",
      "10499/10499 [==============================] - 0s 15us/step - loss: 0.2673 - acc: 0.8949\n",
      "Epoch 39/50\n",
      "10499/10499 [==============================] - 0s 13us/step - loss: 0.2664 - acc: 0.8950\n",
      "Epoch 40/50\n",
      "10499/10499 [==============================] - 0s 12us/step - loss: 0.2624 - acc: 0.8976\n",
      "Epoch 41/50\n",
      "10499/10499 [==============================] - 0s 14us/step - loss: 0.2602 - acc: 0.9002\n",
      "Epoch 42/50\n",
      "10499/10499 [==============================] - 0s 13us/step - loss: 0.2578 - acc: 0.9008\n",
      "Epoch 43/50\n",
      "10499/10499 [==============================] - 0s 14us/step - loss: 0.2547 - acc: 0.9038\n",
      "Epoch 44/50\n",
      "10499/10499 [==============================] - 0s 14us/step - loss: 0.2507 - acc: 0.9074\n",
      "Epoch 45/50\n",
      "10499/10499 [==============================] - ETA: 0s - loss: 0.2406 - acc: 0.908 - 0s 14us/step - loss: 0.2473 - acc: 0.9092\n",
      "Epoch 46/50\n",
      "10499/10499 [==============================] - 0s 15us/step - loss: 0.2473 - acc: 0.9098\n",
      "Epoch 47/50\n",
      "10499/10499 [==============================] - 0s 13us/step - loss: 0.2378 - acc: 0.9155\n",
      "Epoch 48/50\n",
      "10499/10499 [==============================] - 0s 13us/step - loss: 0.2338 - acc: 0.9155\n",
      "Epoch 49/50\n",
      "10499/10499 [==============================] - 0s 14us/step - loss: 0.2319 - acc: 0.9168\n",
      "Epoch 50/50\n",
      "10499/10499 [==============================] - 0s 14us/step - loss: 0.2246 - acc: 0.9228\n"
     ]
    },
    {
     "data": {
      "image/png": "[encoded data removed]",
      "text/plain": [
       "<Figure size 1080x432 with 2 Axes>"
      ]
     },
     "metadata": {
      "needs_background": "light"
     },
     "output_type": "display_data"
    }
   ],
   "source": [
    "import tensorflow as tf\n",
    "from keras.wrappers.scikit_learn import KerasClassifier\n",
    "from sklearn.model_selection import cross_val_score\n",
    "from keras.models import Sequential # initialize neural network library\n",
    "from keras.layers import Dense # build our layers library\n",
    "\n",
    "run_ANN1 = True\n",
    "\n",
    "if run_ANN1:\n",
    "    def build_classifier():\n",
    "        classifier = Sequential() # initialize neural network\n",
    "        classifier.add(Dense(units = 20, kernel_initializer = 'uniform', activation = 'relu', input_dim = X_train.shape[1]))\n",
    "        classifier.add(Dense(units = 5, kernel_initializer = 'uniform', activation = 'relu'))\n",
    "        classifier.add(Dense(units = 1, kernel_initializer = 'uniform', activation = 'sigmoid'))\n",
    "        classifier.compile(optimizer = 'adam', loss = 'binary_crossentropy', metrics = ['accuracy'])\n",
    "        return classifier\n",
    "    classifier = KerasClassifier(build_fn = build_classifier, epochs = 50).fit(x = X_train, y = y_train, batch_size = 100)\n",
    "\n",
    "    plot_history(classifier)"
   ]
  },
  {
   "cell_type": "markdown",
   "metadata": {},
   "source": [
    "The previous plots show how the loss and accuracy associated with the neural network varies over the course of training. Although the neural network model performs well, it is not as accurate as our models based on decision trees."
   ]
  },
  {
   "cell_type": "markdown",
   "metadata": {},
   "source": [
    "# Can you beat the best model?\n",
    "\n",
    "Our random forest model performed the best with respect to accuracy. In this section, you can test your own intuition against this model. The following code block defines and fits the random forest classifier."
   ]
  },
  {
   "cell_type": "code",
   "execution_count": 20,
   "metadata": {},
   "outputs": [],
   "source": [
    "RFclf = RandomForestClassifier(n_estimators=100, random_state=0)\n",
    "RFclf = RFclf.fit(X_train, y_train)"
   ]
  },
  {
   "cell_type": "markdown",
   "metadata": {},
   "source": [
    "The following code block regenerates the interactive plot that shows how the number of employees that left their job change as the data features vary."
   ]
  },
  {
   "cell_type": "code",
   "execution_count": 21,
   "metadata": {},
   "outputs": [
    {
     "data": {
      "application/vnd.jupyter.widget-view+json": {
       "model_id": "76c753aa37854eab98679feadec86d0a",
       "version_major": 2,
       "version_minor": 0
      },
      "text/plain": [
       "interactive(children=(Dropdown(description='attribute', options=('satisfaction_level', 'last_evaluation', 'num…"
      ]
     },
     "metadata": {},
     "output_type": "display_data"
    }
   ],
   "source": [
    "attribute_columns = ['satisfaction_level', 'last_evaluation', 'number_of_projects',\n",
    "                     'average_monthly_hours', 'years_with_company', 'involved_in_accident', 'promoted_last_5_years', 'department', 'salary_level']\n",
    "\n",
    "@interact(attribute = attribute_columns)\n",
    "\n",
    "def interactive_spend_analysis(attribute = attribute_columns[0]):\n",
    "    \n",
    "    data_copy = data.copy()\n",
    "    data_copy['satisfaction_level'] = pd.cut(data_copy['satisfaction_level'], [i*10 for i in range(11)])\n",
    "    data_copy['last_evaluation'] = pd.cut(data_copy['last_evaluation'], [i*10 for i in range(11)])\n",
    "    data_copy['average_monthly_hours'] = pd.cut(data_copy['average_monthly_hours'], [i*25 for i in range(3,14)])\n",
    "    \n",
    "    fig, ax = plt.subplots(figsize=(12, 6))\n",
    "    sns.countplot(x = attribute, \n",
    "                  data = data_copy, \n",
    "                  hue = 'left_company', \n",
    "                  ax = ax,\n",
    "                  edgecolor = 'k')\n",
    "    plt.xticks(rotation = 45, fontsize = 14)\n",
    "    plt.yticks(fontsize = 14)\n",
    "    ax.set_xlabel(attribute, fontsize = 16)\n",
    "    ax.set_ylabel('Count', fontsize = 16)\n",
    "    plt.legend(title ='left_company',fontsize = 16)\n",
    "    \n",
    "    plt.show()"
   ]
  },
  {
   "cell_type": "markdown",
   "metadata": {},
   "source": [
    "The following code block allows you to specify an integer between 0 and 4499, where each value corresponds to a particular instance in the testing dataset. Running the cell will print the feature values for for the specified instance. Using this data, along with the previous plot, you can determine your prediction for whether the associated employee stayed with the company or left."
   ]
  },
  {
   "cell_type": "code",
   "execution_count": 22,
   "metadata": {},
   "outputs": [
    {
     "name": "stdout",
     "output_type": "stream",
     "text": [
      "satisfaction_level: 16.0\n",
      "last_evaluation: 90.0\n",
      "number_of_projects: 5.0\n",
      "average_monthly_hours: 258.0\n",
      "years_with_company: 3.0\n",
      "involved_in_accident: 0.0\n",
      "promoted_last_5_years: 0.0\n",
      "IT: 0.0\n",
      "RandD: 0.0\n",
      "accounting: 0.0\n",
      "hr: 0.0\n",
      "management: 0.0\n",
      "marketing: 0.0\n",
      "product_mng: 0.0\n",
      "sales: 0.0\n",
      "support: 0.0\n",
      "technical: 1.0\n",
      "salary_high: 0.0\n",
      "salary_low: 0.0\n",
      "salary_medium: 1.0\n"
     ]
    }
   ],
   "source": [
    "instance = 9 # max 4499 (9, 0, 22, 1, 8)\n",
    "\n",
    "for i in range(len(features)):\n",
    "    print(f'{features[i]}: {np.array(X_test)[instance,i]}')"
   ]
  },
  {
   "cell_type": "markdown",
   "metadata": {},
   "source": [
    "The following code block prints the random forest prediction for the specified instance."
   ]
  },
  {
   "cell_type": "code",
   "execution_count": 23,
   "metadata": {},
   "outputs": [
    {
     "name": "stdout",
     "output_type": "stream",
     "text": [
      "The random forest correctly predicts that the employee did not leave.\n"
     ]
    }
   ],
   "source": [
    "pred = int(RFclf.predict(np.array(X_test)[instance,:].reshape(1,-1)))\n",
    "actual = np.array(y_test)[instance]\n",
    "\n",
    "if (pred == 1) & (actual == 1):\n",
    "    print('The random forest correctly predicts that the employee left.')\n",
    "if (pred == 0) & (actual == 0):\n",
    "    print('The random forest correctly predicts that the employee did not leave.')\n",
    "if (pred == 1) & (actual == 0):\n",
    "    print('The random forest predicts that the employee left, but they did not.')\n",
    "if (pred == 0) & (actual ==1):\n",
    "    print('The random forest predicts that the employee did not leave, but they did.')"
   ]
  }
 ],
 "metadata": {
  "kernelspec": {
   "display_name": "Python 3",
   "language": "python",
   "name": "python3"
  },
  "language_info": {
   "codemirror_mode": {
    "name": "ipython",
    "version": 3
   },
   "file_extension": ".py",
   "mimetype": "text/x-python",
   "name": "python",
   "nbconvert_exporter": "python",
   "pygments_lexer": "ipython3",
   "version": "3.6.8"
  }
 },
 "nbformat": 4,
 "nbformat_minor": 2
}
